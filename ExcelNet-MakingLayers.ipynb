{
 "cells": [
  {
   "cell_type": "code",
   "execution_count": 3,
   "id": "5a57d049",
   "metadata": {
    "scrolled": true
   },
   "outputs": [],
   "source": [
    "import pandas as pd\n",
    "import numpy as np\n",
    "import random\n",
    "import torch\n",
    "from torch import tensor\n"
   ]
  },
  {
   "cell_type": "code",
   "execution_count": 4,
   "id": "bd1a2796",
   "metadata": {
    "scrolled": true
   },
   "outputs": [
    {
     "data": {
      "text/html": [
       "<div>\n",
       "<style scoped>\n",
       "    .dataframe tbody tr th:only-of-type {\n",
       "        vertical-align: middle;\n",
       "    }\n",
       "\n",
       "    .dataframe tbody tr th {\n",
       "        vertical-align: top;\n",
       "    }\n",
       "\n",
       "    .dataframe thead th {\n",
       "        text-align: right;\n",
       "    }\n",
       "</style>\n",
       "<table border=\"1\" class=\"dataframe\">\n",
       "  <thead>\n",
       "    <tr style=\"text-align: right;\">\n",
       "      <th></th>\n",
       "      <th>Survived</th>\n",
       "      <th>Pclass</th>\n",
       "      <th>Sex</th>\n",
       "      <th>Age</th>\n",
       "      <th>SibSp</th>\n",
       "      <th>Parch</th>\n",
       "      <th>Fare</th>\n",
       "      <th>Embarked</th>\n",
       "    </tr>\n",
       "    <tr>\n",
       "      <th>PassengerId</th>\n",
       "      <th></th>\n",
       "      <th></th>\n",
       "      <th></th>\n",
       "      <th></th>\n",
       "      <th></th>\n",
       "      <th></th>\n",
       "      <th></th>\n",
       "      <th></th>\n",
       "    </tr>\n",
       "  </thead>\n",
       "  <tbody>\n",
       "    <tr>\n",
       "      <th>1</th>\n",
       "      <td>0</td>\n",
       "      <td>3</td>\n",
       "      <td>male</td>\n",
       "      <td>22.0</td>\n",
       "      <td>1</td>\n",
       "      <td>0</td>\n",
       "      <td>7.2500</td>\n",
       "      <td>S</td>\n",
       "    </tr>\n",
       "    <tr>\n",
       "      <th>2</th>\n",
       "      <td>1</td>\n",
       "      <td>1</td>\n",
       "      <td>female</td>\n",
       "      <td>38.0</td>\n",
       "      <td>1</td>\n",
       "      <td>0</td>\n",
       "      <td>71.2833</td>\n",
       "      <td>C</td>\n",
       "    </tr>\n",
       "    <tr>\n",
       "      <th>3</th>\n",
       "      <td>1</td>\n",
       "      <td>3</td>\n",
       "      <td>female</td>\n",
       "      <td>26.0</td>\n",
       "      <td>0</td>\n",
       "      <td>0</td>\n",
       "      <td>7.9250</td>\n",
       "      <td>S</td>\n",
       "    </tr>\n",
       "    <tr>\n",
       "      <th>4</th>\n",
       "      <td>1</td>\n",
       "      <td>1</td>\n",
       "      <td>female</td>\n",
       "      <td>35.0</td>\n",
       "      <td>1</td>\n",
       "      <td>0</td>\n",
       "      <td>53.1000</td>\n",
       "      <td>S</td>\n",
       "    </tr>\n",
       "    <tr>\n",
       "      <th>5</th>\n",
       "      <td>0</td>\n",
       "      <td>3</td>\n",
       "      <td>male</td>\n",
       "      <td>35.0</td>\n",
       "      <td>0</td>\n",
       "      <td>0</td>\n",
       "      <td>8.0500</td>\n",
       "      <td>S</td>\n",
       "    </tr>\n",
       "    <tr>\n",
       "      <th>...</th>\n",
       "      <td>...</td>\n",
       "      <td>...</td>\n",
       "      <td>...</td>\n",
       "      <td>...</td>\n",
       "      <td>...</td>\n",
       "      <td>...</td>\n",
       "      <td>...</td>\n",
       "      <td>...</td>\n",
       "    </tr>\n",
       "    <tr>\n",
       "      <th>887</th>\n",
       "      <td>0</td>\n",
       "      <td>2</td>\n",
       "      <td>male</td>\n",
       "      <td>27.0</td>\n",
       "      <td>0</td>\n",
       "      <td>0</td>\n",
       "      <td>13.0000</td>\n",
       "      <td>S</td>\n",
       "    </tr>\n",
       "    <tr>\n",
       "      <th>888</th>\n",
       "      <td>1</td>\n",
       "      <td>1</td>\n",
       "      <td>female</td>\n",
       "      <td>19.0</td>\n",
       "      <td>0</td>\n",
       "      <td>0</td>\n",
       "      <td>30.0000</td>\n",
       "      <td>S</td>\n",
       "    </tr>\n",
       "    <tr>\n",
       "      <th>889</th>\n",
       "      <td>0</td>\n",
       "      <td>3</td>\n",
       "      <td>female</td>\n",
       "      <td>NaN</td>\n",
       "      <td>1</td>\n",
       "      <td>2</td>\n",
       "      <td>23.4500</td>\n",
       "      <td>S</td>\n",
       "    </tr>\n",
       "    <tr>\n",
       "      <th>890</th>\n",
       "      <td>1</td>\n",
       "      <td>1</td>\n",
       "      <td>male</td>\n",
       "      <td>26.0</td>\n",
       "      <td>0</td>\n",
       "      <td>0</td>\n",
       "      <td>30.0000</td>\n",
       "      <td>C</td>\n",
       "    </tr>\n",
       "    <tr>\n",
       "      <th>891</th>\n",
       "      <td>0</td>\n",
       "      <td>3</td>\n",
       "      <td>male</td>\n",
       "      <td>32.0</td>\n",
       "      <td>0</td>\n",
       "      <td>0</td>\n",
       "      <td>7.7500</td>\n",
       "      <td>Q</td>\n",
       "    </tr>\n",
       "  </tbody>\n",
       "</table>\n",
       "<p>891 rows × 8 columns</p>\n",
       "</div>"
      ],
      "text/plain": [
       "             Survived  Pclass     Sex   Age  SibSp  Parch     Fare Embarked\n",
       "PassengerId                                                                \n",
       "1                   0       3    male  22.0      1      0   7.2500        S\n",
       "2                   1       1  female  38.0      1      0  71.2833        C\n",
       "3                   1       3  female  26.0      0      0   7.9250        S\n",
       "4                   1       1  female  35.0      1      0  53.1000        S\n",
       "5                   0       3    male  35.0      0      0   8.0500        S\n",
       "...               ...     ...     ...   ...    ...    ...      ...      ...\n",
       "887                 0       2    male  27.0      0      0  13.0000        S\n",
       "888                 1       1  female  19.0      0      0  30.0000        S\n",
       "889                 0       3  female   NaN      1      2  23.4500        S\n",
       "890                 1       1    male  26.0      0      0  30.0000        C\n",
       "891                 0       3    male  32.0      0      0   7.7500        Q\n",
       "\n",
       "[891 rows x 8 columns]"
      ]
     },
     "execution_count": 4,
     "metadata": {},
     "output_type": "execute_result"
    }
   ],
   "source": [
    "# import train csv into dataframe\n",
    "dfTrain = pd.read_csv(\"train.csv\", index_col=0)\n",
    "dfTrain.drop(columns={\"Name\", \"Ticket\", \"Cabin\"}, inplace=True)\n",
    "dfTrain"
   ]
  },
  {
   "cell_type": "code",
   "execution_count": 5,
   "id": "fc496028",
   "metadata": {
    "scrolled": true
   },
   "outputs": [
    {
     "data": {
      "text/plain": [
       "Survived       0\n",
       "Pclass         3\n",
       "Sex         male\n",
       "Age         24.0\n",
       "SibSp          0\n",
       "Parch          0\n",
       "Fare        8.05\n",
       "Embarked       S\n",
       "Name: 0, dtype: object"
      ]
     },
     "execution_count": 5,
     "metadata": {},
     "output_type": "execute_result"
    }
   ],
   "source": [
    "dfTrain.mode().loc[0]"
   ]
  },
  {
   "cell_type": "code",
   "execution_count": 6,
   "id": "b121b703",
   "metadata": {},
   "outputs": [
    {
     "data": {
      "text/html": [
       "<div>\n",
       "<style scoped>\n",
       "    .dataframe tbody tr th:only-of-type {\n",
       "        vertical-align: middle;\n",
       "    }\n",
       "\n",
       "    .dataframe tbody tr th {\n",
       "        vertical-align: top;\n",
       "    }\n",
       "\n",
       "    .dataframe thead th {\n",
       "        text-align: right;\n",
       "    }\n",
       "</style>\n",
       "<table border=\"1\" class=\"dataframe\">\n",
       "  <thead>\n",
       "    <tr style=\"text-align: right;\">\n",
       "      <th></th>\n",
       "      <th>Survived</th>\n",
       "      <th>Pclass</th>\n",
       "      <th>Sex</th>\n",
       "      <th>Age</th>\n",
       "      <th>SibSp</th>\n",
       "      <th>Parch</th>\n",
       "      <th>Fare</th>\n",
       "      <th>Embarked</th>\n",
       "    </tr>\n",
       "    <tr>\n",
       "      <th>PassengerId</th>\n",
       "      <th></th>\n",
       "      <th></th>\n",
       "      <th></th>\n",
       "      <th></th>\n",
       "      <th></th>\n",
       "      <th></th>\n",
       "      <th></th>\n",
       "      <th></th>\n",
       "    </tr>\n",
       "  </thead>\n",
       "  <tbody>\n",
       "    <tr>\n",
       "      <th>1</th>\n",
       "      <td>0</td>\n",
       "      <td>3</td>\n",
       "      <td>male</td>\n",
       "      <td>22.0</td>\n",
       "      <td>1</td>\n",
       "      <td>0</td>\n",
       "      <td>7.2500</td>\n",
       "      <td>S</td>\n",
       "    </tr>\n",
       "    <tr>\n",
       "      <th>2</th>\n",
       "      <td>1</td>\n",
       "      <td>1</td>\n",
       "      <td>female</td>\n",
       "      <td>38.0</td>\n",
       "      <td>1</td>\n",
       "      <td>0</td>\n",
       "      <td>71.2833</td>\n",
       "      <td>C</td>\n",
       "    </tr>\n",
       "    <tr>\n",
       "      <th>3</th>\n",
       "      <td>1</td>\n",
       "      <td>3</td>\n",
       "      <td>female</td>\n",
       "      <td>26.0</td>\n",
       "      <td>0</td>\n",
       "      <td>0</td>\n",
       "      <td>7.9250</td>\n",
       "      <td>S</td>\n",
       "    </tr>\n",
       "    <tr>\n",
       "      <th>4</th>\n",
       "      <td>1</td>\n",
       "      <td>1</td>\n",
       "      <td>female</td>\n",
       "      <td>35.0</td>\n",
       "      <td>1</td>\n",
       "      <td>0</td>\n",
       "      <td>53.1000</td>\n",
       "      <td>S</td>\n",
       "    </tr>\n",
       "    <tr>\n",
       "      <th>5</th>\n",
       "      <td>0</td>\n",
       "      <td>3</td>\n",
       "      <td>male</td>\n",
       "      <td>35.0</td>\n",
       "      <td>0</td>\n",
       "      <td>0</td>\n",
       "      <td>8.0500</td>\n",
       "      <td>S</td>\n",
       "    </tr>\n",
       "    <tr>\n",
       "      <th>...</th>\n",
       "      <td>...</td>\n",
       "      <td>...</td>\n",
       "      <td>...</td>\n",
       "      <td>...</td>\n",
       "      <td>...</td>\n",
       "      <td>...</td>\n",
       "      <td>...</td>\n",
       "      <td>...</td>\n",
       "    </tr>\n",
       "    <tr>\n",
       "      <th>887</th>\n",
       "      <td>0</td>\n",
       "      <td>2</td>\n",
       "      <td>male</td>\n",
       "      <td>27.0</td>\n",
       "      <td>0</td>\n",
       "      <td>0</td>\n",
       "      <td>13.0000</td>\n",
       "      <td>S</td>\n",
       "    </tr>\n",
       "    <tr>\n",
       "      <th>888</th>\n",
       "      <td>1</td>\n",
       "      <td>1</td>\n",
       "      <td>female</td>\n",
       "      <td>19.0</td>\n",
       "      <td>0</td>\n",
       "      <td>0</td>\n",
       "      <td>30.0000</td>\n",
       "      <td>S</td>\n",
       "    </tr>\n",
       "    <tr>\n",
       "      <th>889</th>\n",
       "      <td>0</td>\n",
       "      <td>3</td>\n",
       "      <td>female</td>\n",
       "      <td>24.0</td>\n",
       "      <td>1</td>\n",
       "      <td>2</td>\n",
       "      <td>23.4500</td>\n",
       "      <td>S</td>\n",
       "    </tr>\n",
       "    <tr>\n",
       "      <th>890</th>\n",
       "      <td>1</td>\n",
       "      <td>1</td>\n",
       "      <td>male</td>\n",
       "      <td>26.0</td>\n",
       "      <td>0</td>\n",
       "      <td>0</td>\n",
       "      <td>30.0000</td>\n",
       "      <td>C</td>\n",
       "    </tr>\n",
       "    <tr>\n",
       "      <th>891</th>\n",
       "      <td>0</td>\n",
       "      <td>3</td>\n",
       "      <td>male</td>\n",
       "      <td>32.0</td>\n",
       "      <td>0</td>\n",
       "      <td>0</td>\n",
       "      <td>7.7500</td>\n",
       "      <td>Q</td>\n",
       "    </tr>\n",
       "  </tbody>\n",
       "</table>\n",
       "<p>891 rows × 8 columns</p>\n",
       "</div>"
      ],
      "text/plain": [
       "             Survived  Pclass     Sex   Age  SibSp  Parch     Fare Embarked\n",
       "PassengerId                                                                \n",
       "1                   0       3    male  22.0      1      0   7.2500        S\n",
       "2                   1       1  female  38.0      1      0  71.2833        C\n",
       "3                   1       3  female  26.0      0      0   7.9250        S\n",
       "4                   1       1  female  35.0      1      0  53.1000        S\n",
       "5                   0       3    male  35.0      0      0   8.0500        S\n",
       "...               ...     ...     ...   ...    ...    ...      ...      ...\n",
       "887                 0       2    male  27.0      0      0  13.0000        S\n",
       "888                 1       1  female  19.0      0      0  30.0000        S\n",
       "889                 0       3  female  24.0      1      2  23.4500        S\n",
       "890                 1       1    male  26.0      0      0  30.0000        C\n",
       "891                 0       3    male  32.0      0      0   7.7500        Q\n",
       "\n",
       "[891 rows x 8 columns]"
      ]
     },
     "execution_count": 6,
     "metadata": {},
     "output_type": "execute_result"
    }
   ],
   "source": [
    "# replace NaN values with the mode\n",
    "dfTrain.fillna(value = dfTrain.mode().loc[0], inplace = True)\n",
    "dfTrain"
   ]
  },
  {
   "cell_type": "code",
   "execution_count": 7,
   "id": "82e0befc",
   "metadata": {},
   "outputs": [
    {
     "data": {
      "text/html": [
       "<div>\n",
       "<style scoped>\n",
       "    .dataframe tbody tr th:only-of-type {\n",
       "        vertical-align: middle;\n",
       "    }\n",
       "\n",
       "    .dataframe tbody tr th {\n",
       "        vertical-align: top;\n",
       "    }\n",
       "\n",
       "    .dataframe thead th {\n",
       "        text-align: right;\n",
       "    }\n",
       "</style>\n",
       "<table border=\"1\" class=\"dataframe\">\n",
       "  <thead>\n",
       "    <tr style=\"text-align: right;\">\n",
       "      <th></th>\n",
       "      <th>SibSp</th>\n",
       "      <th>Parch</th>\n",
       "    </tr>\n",
       "    <tr>\n",
       "      <th>PassengerId</th>\n",
       "      <th></th>\n",
       "      <th></th>\n",
       "    </tr>\n",
       "  </thead>\n",
       "  <tbody>\n",
       "    <tr>\n",
       "      <th>1</th>\n",
       "      <td>1</td>\n",
       "      <td>0</td>\n",
       "    </tr>\n",
       "    <tr>\n",
       "      <th>2</th>\n",
       "      <td>1</td>\n",
       "      <td>0</td>\n",
       "    </tr>\n",
       "    <tr>\n",
       "      <th>3</th>\n",
       "      <td>0</td>\n",
       "      <td>0</td>\n",
       "    </tr>\n",
       "    <tr>\n",
       "      <th>4</th>\n",
       "      <td>1</td>\n",
       "      <td>0</td>\n",
       "    </tr>\n",
       "    <tr>\n",
       "      <th>5</th>\n",
       "      <td>0</td>\n",
       "      <td>0</td>\n",
       "    </tr>\n",
       "    <tr>\n",
       "      <th>...</th>\n",
       "      <td>...</td>\n",
       "      <td>...</td>\n",
       "    </tr>\n",
       "    <tr>\n",
       "      <th>887</th>\n",
       "      <td>0</td>\n",
       "      <td>0</td>\n",
       "    </tr>\n",
       "    <tr>\n",
       "      <th>888</th>\n",
       "      <td>0</td>\n",
       "      <td>0</td>\n",
       "    </tr>\n",
       "    <tr>\n",
       "      <th>889</th>\n",
       "      <td>1</td>\n",
       "      <td>2</td>\n",
       "    </tr>\n",
       "    <tr>\n",
       "      <th>890</th>\n",
       "      <td>0</td>\n",
       "      <td>0</td>\n",
       "    </tr>\n",
       "    <tr>\n",
       "      <th>891</th>\n",
       "      <td>0</td>\n",
       "      <td>0</td>\n",
       "    </tr>\n",
       "  </tbody>\n",
       "</table>\n",
       "<p>891 rows × 2 columns</p>\n",
       "</div>"
      ],
      "text/plain": [
       "             SibSp  Parch\n",
       "PassengerId              \n",
       "1                1      0\n",
       "2                1      0\n",
       "3                0      0\n",
       "4                1      0\n",
       "5                0      0\n",
       "...            ...    ...\n",
       "887              0      0\n",
       "888              0      0\n",
       "889              1      2\n",
       "890              0      0\n",
       "891              0      0\n",
       "\n",
       "[891 rows x 2 columns]"
      ]
     },
     "execution_count": 7,
     "metadata": {},
     "output_type": "execute_result"
    }
   ],
   "source": [
    "dfRefinedData = dfTrain[[\"SibSp\", \"Parch\"]].copy()\n",
    "dfRefinedData"
   ]
  },
  {
   "cell_type": "code",
   "execution_count": 8,
   "id": "2ef2b36b",
   "metadata": {},
   "outputs": [
    {
     "data": {
      "text/html": [
       "<div>\n",
       "<style scoped>\n",
       "    .dataframe tbody tr th:only-of-type {\n",
       "        vertical-align: middle;\n",
       "    }\n",
       "\n",
       "    .dataframe tbody tr th {\n",
       "        vertical-align: top;\n",
       "    }\n",
       "\n",
       "    .dataframe thead th {\n",
       "        text-align: right;\n",
       "    }\n",
       "</style>\n",
       "<table border=\"1\" class=\"dataframe\">\n",
       "  <thead>\n",
       "    <tr style=\"text-align: right;\">\n",
       "      <th></th>\n",
       "      <th>SibSp</th>\n",
       "      <th>Parch</th>\n",
       "      <th>Norm_Age</th>\n",
       "    </tr>\n",
       "    <tr>\n",
       "      <th>PassengerId</th>\n",
       "      <th></th>\n",
       "      <th></th>\n",
       "      <th></th>\n",
       "    </tr>\n",
       "  </thead>\n",
       "  <tbody>\n",
       "    <tr>\n",
       "      <th>1</th>\n",
       "      <td>1</td>\n",
       "      <td>0</td>\n",
       "      <td>0.2750</td>\n",
       "    </tr>\n",
       "    <tr>\n",
       "      <th>2</th>\n",
       "      <td>1</td>\n",
       "      <td>0</td>\n",
       "      <td>0.4750</td>\n",
       "    </tr>\n",
       "    <tr>\n",
       "      <th>3</th>\n",
       "      <td>0</td>\n",
       "      <td>0</td>\n",
       "      <td>0.3250</td>\n",
       "    </tr>\n",
       "    <tr>\n",
       "      <th>4</th>\n",
       "      <td>1</td>\n",
       "      <td>0</td>\n",
       "      <td>0.4375</td>\n",
       "    </tr>\n",
       "    <tr>\n",
       "      <th>5</th>\n",
       "      <td>0</td>\n",
       "      <td>0</td>\n",
       "      <td>0.4375</td>\n",
       "    </tr>\n",
       "    <tr>\n",
       "      <th>...</th>\n",
       "      <td>...</td>\n",
       "      <td>...</td>\n",
       "      <td>...</td>\n",
       "    </tr>\n",
       "    <tr>\n",
       "      <th>887</th>\n",
       "      <td>0</td>\n",
       "      <td>0</td>\n",
       "      <td>0.3375</td>\n",
       "    </tr>\n",
       "    <tr>\n",
       "      <th>888</th>\n",
       "      <td>0</td>\n",
       "      <td>0</td>\n",
       "      <td>0.2375</td>\n",
       "    </tr>\n",
       "    <tr>\n",
       "      <th>889</th>\n",
       "      <td>1</td>\n",
       "      <td>2</td>\n",
       "      <td>0.3000</td>\n",
       "    </tr>\n",
       "    <tr>\n",
       "      <th>890</th>\n",
       "      <td>0</td>\n",
       "      <td>0</td>\n",
       "      <td>0.3250</td>\n",
       "    </tr>\n",
       "    <tr>\n",
       "      <th>891</th>\n",
       "      <td>0</td>\n",
       "      <td>0</td>\n",
       "      <td>0.4000</td>\n",
       "    </tr>\n",
       "  </tbody>\n",
       "</table>\n",
       "<p>891 rows × 3 columns</p>\n",
       "</div>"
      ],
      "text/plain": [
       "             SibSp  Parch  Norm_Age\n",
       "PassengerId                        \n",
       "1                1      0    0.2750\n",
       "2                1      0    0.4750\n",
       "3                0      0    0.3250\n",
       "4                1      0    0.4375\n",
       "5                0      0    0.4375\n",
       "...            ...    ...       ...\n",
       "887              0      0    0.3375\n",
       "888              0      0    0.2375\n",
       "889              1      2    0.3000\n",
       "890              0      0    0.3250\n",
       "891              0      0    0.4000\n",
       "\n",
       "[891 rows x 3 columns]"
      ]
     },
     "execution_count": 8,
     "metadata": {},
     "output_type": "execute_result"
    }
   ],
   "source": [
    "# Normalize the Age column\n",
    "dfRefinedData.loc[:, \"Norm_Age\"] = dfTrain.loc[:, \"Age\"]/dfTrain.loc[:, \"Age\"].max()\n",
    "dfRefinedData"
   ]
  },
  {
   "cell_type": "code",
   "execution_count": 9,
   "id": "ec9414a0",
   "metadata": {},
   "outputs": [
    {
     "data": {
      "text/html": [
       "<div>\n",
       "<style scoped>\n",
       "    .dataframe tbody tr th:only-of-type {\n",
       "        vertical-align: middle;\n",
       "    }\n",
       "\n",
       "    .dataframe tbody tr th {\n",
       "        vertical-align: top;\n",
       "    }\n",
       "\n",
       "    .dataframe thead th {\n",
       "        text-align: right;\n",
       "    }\n",
       "</style>\n",
       "<table border=\"1\" class=\"dataframe\">\n",
       "  <thead>\n",
       "    <tr style=\"text-align: right;\">\n",
       "      <th></th>\n",
       "      <th>SibSp</th>\n",
       "      <th>Parch</th>\n",
       "      <th>Norm_Age</th>\n",
       "      <th>Log_Fare</th>\n",
       "    </tr>\n",
       "    <tr>\n",
       "      <th>PassengerId</th>\n",
       "      <th></th>\n",
       "      <th></th>\n",
       "      <th></th>\n",
       "      <th></th>\n",
       "    </tr>\n",
       "  </thead>\n",
       "  <tbody>\n",
       "    <tr>\n",
       "      <th>1</th>\n",
       "      <td>1</td>\n",
       "      <td>0</td>\n",
       "      <td>0.2750</td>\n",
       "      <td>0.916454</td>\n",
       "    </tr>\n",
       "    <tr>\n",
       "      <th>2</th>\n",
       "      <td>1</td>\n",
       "      <td>0</td>\n",
       "      <td>0.4750</td>\n",
       "      <td>1.859038</td>\n",
       "    </tr>\n",
       "    <tr>\n",
       "      <th>3</th>\n",
       "      <td>0</td>\n",
       "      <td>0</td>\n",
       "      <td>0.3250</td>\n",
       "      <td>0.950608</td>\n",
       "    </tr>\n",
       "    <tr>\n",
       "      <th>4</th>\n",
       "      <td>1</td>\n",
       "      <td>0</td>\n",
       "      <td>0.4375</td>\n",
       "      <td>1.733197</td>\n",
       "    </tr>\n",
       "    <tr>\n",
       "      <th>5</th>\n",
       "      <td>0</td>\n",
       "      <td>0</td>\n",
       "      <td>0.4375</td>\n",
       "      <td>0.956649</td>\n",
       "    </tr>\n",
       "    <tr>\n",
       "      <th>...</th>\n",
       "      <td>...</td>\n",
       "      <td>...</td>\n",
       "      <td>...</td>\n",
       "      <td>...</td>\n",
       "    </tr>\n",
       "    <tr>\n",
       "      <th>887</th>\n",
       "      <td>0</td>\n",
       "      <td>0</td>\n",
       "      <td>0.3375</td>\n",
       "      <td>1.146128</td>\n",
       "    </tr>\n",
       "    <tr>\n",
       "      <th>888</th>\n",
       "      <td>0</td>\n",
       "      <td>0</td>\n",
       "      <td>0.2375</td>\n",
       "      <td>1.491362</td>\n",
       "    </tr>\n",
       "    <tr>\n",
       "      <th>889</th>\n",
       "      <td>1</td>\n",
       "      <td>2</td>\n",
       "      <td>0.3000</td>\n",
       "      <td>1.388279</td>\n",
       "    </tr>\n",
       "    <tr>\n",
       "      <th>890</th>\n",
       "      <td>0</td>\n",
       "      <td>0</td>\n",
       "      <td>0.3250</td>\n",
       "      <td>1.491362</td>\n",
       "    </tr>\n",
       "    <tr>\n",
       "      <th>891</th>\n",
       "      <td>0</td>\n",
       "      <td>0</td>\n",
       "      <td>0.4000</td>\n",
       "      <td>0.942008</td>\n",
       "    </tr>\n",
       "  </tbody>\n",
       "</table>\n",
       "<p>891 rows × 4 columns</p>\n",
       "</div>"
      ],
      "text/plain": [
       "             SibSp  Parch  Norm_Age  Log_Fare\n",
       "PassengerId                                  \n",
       "1                1      0    0.2750  0.916454\n",
       "2                1      0    0.4750  1.859038\n",
       "3                0      0    0.3250  0.950608\n",
       "4                1      0    0.4375  1.733197\n",
       "5                0      0    0.4375  0.956649\n",
       "...            ...    ...       ...       ...\n",
       "887              0      0    0.3375  1.146128\n",
       "888              0      0    0.2375  1.491362\n",
       "889              1      2    0.3000  1.388279\n",
       "890              0      0    0.3250  1.491362\n",
       "891              0      0    0.4000  0.942008\n",
       "\n",
       "[891 rows x 4 columns]"
      ]
     },
     "execution_count": 9,
     "metadata": {},
     "output_type": "execute_result"
    }
   ],
   "source": [
    "# Due to unbalanced and large distribution of \"Fare\" column, take the log base 10 instead of normalizing it\n",
    "dfRefinedData[\"Log_Fare\"] = np.log10(dfTrain[\"Fare\"] + 1)\n",
    "dfRefinedData"
   ]
  },
  {
   "cell_type": "code",
   "execution_count": 10,
   "id": "175c31a8",
   "metadata": {},
   "outputs": [
    {
     "data": {
      "text/html": [
       "<div>\n",
       "<style scoped>\n",
       "    .dataframe tbody tr th:only-of-type {\n",
       "        vertical-align: middle;\n",
       "    }\n",
       "\n",
       "    .dataframe tbody tr th {\n",
       "        vertical-align: top;\n",
       "    }\n",
       "\n",
       "    .dataframe thead th {\n",
       "        text-align: right;\n",
       "    }\n",
       "</style>\n",
       "<table border=\"1\" class=\"dataframe\">\n",
       "  <thead>\n",
       "    <tr style=\"text-align: right;\">\n",
       "      <th></th>\n",
       "      <th>SibSp</th>\n",
       "      <th>Parch</th>\n",
       "      <th>Norm_Age</th>\n",
       "      <th>Log_Fare</th>\n",
       "      <th>Sex_female</th>\n",
       "      <th>Sex_male</th>\n",
       "      <th>Embarked_C</th>\n",
       "      <th>Embarked_Q</th>\n",
       "      <th>Embarked_S</th>\n",
       "      <th>Pclass_1</th>\n",
       "      <th>Pclass_2</th>\n",
       "      <th>Pclass_3</th>\n",
       "    </tr>\n",
       "    <tr>\n",
       "      <th>PassengerId</th>\n",
       "      <th></th>\n",
       "      <th></th>\n",
       "      <th></th>\n",
       "      <th></th>\n",
       "      <th></th>\n",
       "      <th></th>\n",
       "      <th></th>\n",
       "      <th></th>\n",
       "      <th></th>\n",
       "      <th></th>\n",
       "      <th></th>\n",
       "      <th></th>\n",
       "    </tr>\n",
       "  </thead>\n",
       "  <tbody>\n",
       "    <tr>\n",
       "      <th>1</th>\n",
       "      <td>1</td>\n",
       "      <td>0</td>\n",
       "      <td>0.2750</td>\n",
       "      <td>0.916454</td>\n",
       "      <td>0</td>\n",
       "      <td>1</td>\n",
       "      <td>0</td>\n",
       "      <td>0</td>\n",
       "      <td>1</td>\n",
       "      <td>0</td>\n",
       "      <td>0</td>\n",
       "      <td>1</td>\n",
       "    </tr>\n",
       "    <tr>\n",
       "      <th>2</th>\n",
       "      <td>1</td>\n",
       "      <td>0</td>\n",
       "      <td>0.4750</td>\n",
       "      <td>1.859038</td>\n",
       "      <td>1</td>\n",
       "      <td>0</td>\n",
       "      <td>1</td>\n",
       "      <td>0</td>\n",
       "      <td>0</td>\n",
       "      <td>1</td>\n",
       "      <td>0</td>\n",
       "      <td>0</td>\n",
       "    </tr>\n",
       "    <tr>\n",
       "      <th>3</th>\n",
       "      <td>0</td>\n",
       "      <td>0</td>\n",
       "      <td>0.3250</td>\n",
       "      <td>0.950608</td>\n",
       "      <td>1</td>\n",
       "      <td>0</td>\n",
       "      <td>0</td>\n",
       "      <td>0</td>\n",
       "      <td>1</td>\n",
       "      <td>0</td>\n",
       "      <td>0</td>\n",
       "      <td>1</td>\n",
       "    </tr>\n",
       "    <tr>\n",
       "      <th>4</th>\n",
       "      <td>1</td>\n",
       "      <td>0</td>\n",
       "      <td>0.4375</td>\n",
       "      <td>1.733197</td>\n",
       "      <td>1</td>\n",
       "      <td>0</td>\n",
       "      <td>0</td>\n",
       "      <td>0</td>\n",
       "      <td>1</td>\n",
       "      <td>1</td>\n",
       "      <td>0</td>\n",
       "      <td>0</td>\n",
       "    </tr>\n",
       "    <tr>\n",
       "      <th>5</th>\n",
       "      <td>0</td>\n",
       "      <td>0</td>\n",
       "      <td>0.4375</td>\n",
       "      <td>0.956649</td>\n",
       "      <td>0</td>\n",
       "      <td>1</td>\n",
       "      <td>0</td>\n",
       "      <td>0</td>\n",
       "      <td>1</td>\n",
       "      <td>0</td>\n",
       "      <td>0</td>\n",
       "      <td>1</td>\n",
       "    </tr>\n",
       "    <tr>\n",
       "      <th>...</th>\n",
       "      <td>...</td>\n",
       "      <td>...</td>\n",
       "      <td>...</td>\n",
       "      <td>...</td>\n",
       "      <td>...</td>\n",
       "      <td>...</td>\n",
       "      <td>...</td>\n",
       "      <td>...</td>\n",
       "      <td>...</td>\n",
       "      <td>...</td>\n",
       "      <td>...</td>\n",
       "      <td>...</td>\n",
       "    </tr>\n",
       "    <tr>\n",
       "      <th>887</th>\n",
       "      <td>0</td>\n",
       "      <td>0</td>\n",
       "      <td>0.3375</td>\n",
       "      <td>1.146128</td>\n",
       "      <td>0</td>\n",
       "      <td>1</td>\n",
       "      <td>0</td>\n",
       "      <td>0</td>\n",
       "      <td>1</td>\n",
       "      <td>0</td>\n",
       "      <td>1</td>\n",
       "      <td>0</td>\n",
       "    </tr>\n",
       "    <tr>\n",
       "      <th>888</th>\n",
       "      <td>0</td>\n",
       "      <td>0</td>\n",
       "      <td>0.2375</td>\n",
       "      <td>1.491362</td>\n",
       "      <td>1</td>\n",
       "      <td>0</td>\n",
       "      <td>0</td>\n",
       "      <td>0</td>\n",
       "      <td>1</td>\n",
       "      <td>1</td>\n",
       "      <td>0</td>\n",
       "      <td>0</td>\n",
       "    </tr>\n",
       "    <tr>\n",
       "      <th>889</th>\n",
       "      <td>1</td>\n",
       "      <td>2</td>\n",
       "      <td>0.3000</td>\n",
       "      <td>1.388279</td>\n",
       "      <td>1</td>\n",
       "      <td>0</td>\n",
       "      <td>0</td>\n",
       "      <td>0</td>\n",
       "      <td>1</td>\n",
       "      <td>0</td>\n",
       "      <td>0</td>\n",
       "      <td>1</td>\n",
       "    </tr>\n",
       "    <tr>\n",
       "      <th>890</th>\n",
       "      <td>0</td>\n",
       "      <td>0</td>\n",
       "      <td>0.3250</td>\n",
       "      <td>1.491362</td>\n",
       "      <td>0</td>\n",
       "      <td>1</td>\n",
       "      <td>1</td>\n",
       "      <td>0</td>\n",
       "      <td>0</td>\n",
       "      <td>1</td>\n",
       "      <td>0</td>\n",
       "      <td>0</td>\n",
       "    </tr>\n",
       "    <tr>\n",
       "      <th>891</th>\n",
       "      <td>0</td>\n",
       "      <td>0</td>\n",
       "      <td>0.4000</td>\n",
       "      <td>0.942008</td>\n",
       "      <td>0</td>\n",
       "      <td>1</td>\n",
       "      <td>0</td>\n",
       "      <td>1</td>\n",
       "      <td>0</td>\n",
       "      <td>0</td>\n",
       "      <td>0</td>\n",
       "      <td>1</td>\n",
       "    </tr>\n",
       "  </tbody>\n",
       "</table>\n",
       "<p>891 rows × 12 columns</p>\n",
       "</div>"
      ],
      "text/plain": [
       "             SibSp  Parch  Norm_Age  Log_Fare  Sex_female  Sex_male  \\\n",
       "PassengerId                                                           \n",
       "1                1      0    0.2750  0.916454           0         1   \n",
       "2                1      0    0.4750  1.859038           1         0   \n",
       "3                0      0    0.3250  0.950608           1         0   \n",
       "4                1      0    0.4375  1.733197           1         0   \n",
       "5                0      0    0.4375  0.956649           0         1   \n",
       "...            ...    ...       ...       ...         ...       ...   \n",
       "887              0      0    0.3375  1.146128           0         1   \n",
       "888              0      0    0.2375  1.491362           1         0   \n",
       "889              1      2    0.3000  1.388279           1         0   \n",
       "890              0      0    0.3250  1.491362           0         1   \n",
       "891              0      0    0.4000  0.942008           0         1   \n",
       "\n",
       "             Embarked_C  Embarked_Q  Embarked_S  Pclass_1  Pclass_2  Pclass_3  \n",
       "PassengerId                                                                    \n",
       "1                     0           0           1         0         0         1  \n",
       "2                     1           0           0         1         0         0  \n",
       "3                     0           0           1         0         0         1  \n",
       "4                     0           0           1         1         0         0  \n",
       "5                     0           0           1         0         0         1  \n",
       "...                 ...         ...         ...       ...       ...       ...  \n",
       "887                   0           0           1         0         1         0  \n",
       "888                   0           0           1         1         0         0  \n",
       "889                   0           0           1         0         0         1  \n",
       "890                   1           0           0         1         0         0  \n",
       "891                   0           1           0         0         0         1  \n",
       "\n",
       "[891 rows x 12 columns]"
      ]
     },
     "execution_count": 10,
     "metadata": {},
     "output_type": "execute_result"
    }
   ],
   "source": [
    "# Split categorical variables into booleans\n",
    "dfRefinedData = dfRefinedData.join(pd.get_dummies(dfTrain.loc[:,['Sex', 'Embarked', 'Pclass']], columns = ['Sex', 'Embarked', 'Pclass']))\n",
    "dfRefinedData"
   ]
  },
  {
   "cell_type": "code",
   "execution_count": 11,
   "id": "396b71f9",
   "metadata": {
    "scrolled": true
   },
   "outputs": [
    {
     "data": {
      "text/plain": [
       "PassengerId\n",
       "1      0\n",
       "2      1\n",
       "3      1\n",
       "4      1\n",
       "5      0\n",
       "      ..\n",
       "887    0\n",
       "888    1\n",
       "889    0\n",
       "890    1\n",
       "891    0\n",
       "Name: Survived, Length: 891, dtype: int64"
      ]
     },
     "execution_count": 11,
     "metadata": {},
     "output_type": "execute_result"
    }
   ],
   "source": [
    "# Create results dataFrame to test against\n",
    "actualResults = dfTrain.loc[:, 'Survived']\n",
    "actualResults"
   ]
  },
  {
   "cell_type": "code",
   "execution_count": 12,
   "id": "4454ccfd",
   "metadata": {
    "scrolled": true
   },
   "outputs": [
    {
     "data": {
      "text/html": [
       "<div>\n",
       "<style scoped>\n",
       "    .dataframe tbody tr th:only-of-type {\n",
       "        vertical-align: middle;\n",
       "    }\n",
       "\n",
       "    .dataframe tbody tr th {\n",
       "        vertical-align: top;\n",
       "    }\n",
       "\n",
       "    .dataframe thead th {\n",
       "        text-align: right;\n",
       "    }\n",
       "</style>\n",
       "<table border=\"1\" class=\"dataframe\">\n",
       "  <thead>\n",
       "    <tr style=\"text-align: right;\">\n",
       "      <th></th>\n",
       "      <th>SibSp</th>\n",
       "      <th>Parch</th>\n",
       "      <th>Norm_Age</th>\n",
       "      <th>Log_Fare</th>\n",
       "      <th>Sex_female</th>\n",
       "      <th>Sex_male</th>\n",
       "      <th>Embarked_C</th>\n",
       "      <th>Embarked_Q</th>\n",
       "      <th>Embarked_S</th>\n",
       "      <th>Pclass_1</th>\n",
       "      <th>Pclass_2</th>\n",
       "      <th>Pclass_3</th>\n",
       "    </tr>\n",
       "    <tr>\n",
       "      <th>PassengerId</th>\n",
       "      <th></th>\n",
       "      <th></th>\n",
       "      <th></th>\n",
       "      <th></th>\n",
       "      <th></th>\n",
       "      <th></th>\n",
       "      <th></th>\n",
       "      <th></th>\n",
       "      <th></th>\n",
       "      <th></th>\n",
       "      <th></th>\n",
       "      <th></th>\n",
       "    </tr>\n",
       "  </thead>\n",
       "  <tbody>\n",
       "    <tr>\n",
       "      <th>1</th>\n",
       "      <td>1</td>\n",
       "      <td>0</td>\n",
       "      <td>0.2750</td>\n",
       "      <td>0.916454</td>\n",
       "      <td>0</td>\n",
       "      <td>1</td>\n",
       "      <td>0</td>\n",
       "      <td>0</td>\n",
       "      <td>1</td>\n",
       "      <td>0</td>\n",
       "      <td>0</td>\n",
       "      <td>1</td>\n",
       "    </tr>\n",
       "    <tr>\n",
       "      <th>2</th>\n",
       "      <td>1</td>\n",
       "      <td>0</td>\n",
       "      <td>0.4750</td>\n",
       "      <td>1.859038</td>\n",
       "      <td>1</td>\n",
       "      <td>0</td>\n",
       "      <td>1</td>\n",
       "      <td>0</td>\n",
       "      <td>0</td>\n",
       "      <td>1</td>\n",
       "      <td>0</td>\n",
       "      <td>0</td>\n",
       "    </tr>\n",
       "    <tr>\n",
       "      <th>3</th>\n",
       "      <td>0</td>\n",
       "      <td>0</td>\n",
       "      <td>0.3250</td>\n",
       "      <td>0.950608</td>\n",
       "      <td>1</td>\n",
       "      <td>0</td>\n",
       "      <td>0</td>\n",
       "      <td>0</td>\n",
       "      <td>1</td>\n",
       "      <td>0</td>\n",
       "      <td>0</td>\n",
       "      <td>1</td>\n",
       "    </tr>\n",
       "    <tr>\n",
       "      <th>4</th>\n",
       "      <td>1</td>\n",
       "      <td>0</td>\n",
       "      <td>0.4375</td>\n",
       "      <td>1.733197</td>\n",
       "      <td>1</td>\n",
       "      <td>0</td>\n",
       "      <td>0</td>\n",
       "      <td>0</td>\n",
       "      <td>1</td>\n",
       "      <td>1</td>\n",
       "      <td>0</td>\n",
       "      <td>0</td>\n",
       "    </tr>\n",
       "    <tr>\n",
       "      <th>5</th>\n",
       "      <td>0</td>\n",
       "      <td>0</td>\n",
       "      <td>0.4375</td>\n",
       "      <td>0.956649</td>\n",
       "      <td>0</td>\n",
       "      <td>1</td>\n",
       "      <td>0</td>\n",
       "      <td>0</td>\n",
       "      <td>1</td>\n",
       "      <td>0</td>\n",
       "      <td>0</td>\n",
       "      <td>1</td>\n",
       "    </tr>\n",
       "    <tr>\n",
       "      <th>...</th>\n",
       "      <td>...</td>\n",
       "      <td>...</td>\n",
       "      <td>...</td>\n",
       "      <td>...</td>\n",
       "      <td>...</td>\n",
       "      <td>...</td>\n",
       "      <td>...</td>\n",
       "      <td>...</td>\n",
       "      <td>...</td>\n",
       "      <td>...</td>\n",
       "      <td>...</td>\n",
       "      <td>...</td>\n",
       "    </tr>\n",
       "    <tr>\n",
       "      <th>708</th>\n",
       "      <td>0</td>\n",
       "      <td>0</td>\n",
       "      <td>0.5250</td>\n",
       "      <td>1.435964</td>\n",
       "      <td>0</td>\n",
       "      <td>1</td>\n",
       "      <td>0</td>\n",
       "      <td>0</td>\n",
       "      <td>1</td>\n",
       "      <td>1</td>\n",
       "      <td>0</td>\n",
       "      <td>0</td>\n",
       "    </tr>\n",
       "    <tr>\n",
       "      <th>709</th>\n",
       "      <td>0</td>\n",
       "      <td>0</td>\n",
       "      <td>0.2750</td>\n",
       "      <td>2.183412</td>\n",
       "      <td>1</td>\n",
       "      <td>0</td>\n",
       "      <td>0</td>\n",
       "      <td>0</td>\n",
       "      <td>1</td>\n",
       "      <td>1</td>\n",
       "      <td>0</td>\n",
       "      <td>0</td>\n",
       "    </tr>\n",
       "    <tr>\n",
       "      <th>710</th>\n",
       "      <td>1</td>\n",
       "      <td>1</td>\n",
       "      <td>0.3000</td>\n",
       "      <td>1.210741</td>\n",
       "      <td>0</td>\n",
       "      <td>1</td>\n",
       "      <td>1</td>\n",
       "      <td>0</td>\n",
       "      <td>0</td>\n",
       "      <td>0</td>\n",
       "      <td>0</td>\n",
       "      <td>1</td>\n",
       "    </tr>\n",
       "    <tr>\n",
       "      <th>711</th>\n",
       "      <td>0</td>\n",
       "      <td>0</td>\n",
       "      <td>0.3000</td>\n",
       "      <td>1.703327</td>\n",
       "      <td>1</td>\n",
       "      <td>0</td>\n",
       "      <td>1</td>\n",
       "      <td>0</td>\n",
       "      <td>0</td>\n",
       "      <td>1</td>\n",
       "      <td>0</td>\n",
       "      <td>0</td>\n",
       "    </tr>\n",
       "    <tr>\n",
       "      <th>712</th>\n",
       "      <td>0</td>\n",
       "      <td>0</td>\n",
       "      <td>0.3000</td>\n",
       "      <td>1.440122</td>\n",
       "      <td>0</td>\n",
       "      <td>1</td>\n",
       "      <td>0</td>\n",
       "      <td>0</td>\n",
       "      <td>1</td>\n",
       "      <td>1</td>\n",
       "      <td>0</td>\n",
       "      <td>0</td>\n",
       "    </tr>\n",
       "  </tbody>\n",
       "</table>\n",
       "<p>712 rows × 12 columns</p>\n",
       "</div>"
      ],
      "text/plain": [
       "             SibSp  Parch  Norm_Age  Log_Fare  Sex_female  Sex_male  \\\n",
       "PassengerId                                                           \n",
       "1                1      0    0.2750  0.916454           0         1   \n",
       "2                1      0    0.4750  1.859038           1         0   \n",
       "3                0      0    0.3250  0.950608           1         0   \n",
       "4                1      0    0.4375  1.733197           1         0   \n",
       "5                0      0    0.4375  0.956649           0         1   \n",
       "...            ...    ...       ...       ...         ...       ...   \n",
       "708              0      0    0.5250  1.435964           0         1   \n",
       "709              0      0    0.2750  2.183412           1         0   \n",
       "710              1      1    0.3000  1.210741           0         1   \n",
       "711              0      0    0.3000  1.703327           1         0   \n",
       "712              0      0    0.3000  1.440122           0         1   \n",
       "\n",
       "             Embarked_C  Embarked_Q  Embarked_S  Pclass_1  Pclass_2  Pclass_3  \n",
       "PassengerId                                                                    \n",
       "1                     0           0           1         0         0         1  \n",
       "2                     1           0           0         1         0         0  \n",
       "3                     0           0           1         0         0         1  \n",
       "4                     0           0           1         1         0         0  \n",
       "5                     0           0           1         0         0         1  \n",
       "...                 ...         ...         ...       ...       ...       ...  \n",
       "708                   0           0           1         1         0         0  \n",
       "709                   0           0           1         1         0         0  \n",
       "710                   1           0           0         0         0         1  \n",
       "711                   1           0           0         1         0         0  \n",
       "712                   0           0           1         1         0         0  \n",
       "\n",
       "[712 rows x 12 columns]"
      ]
     },
     "execution_count": 12,
     "metadata": {},
     "output_type": "execute_result"
    }
   ],
   "source": [
    "# Create validation set\n",
    "cutoff = (int) (0.8 * dfRefinedData.shape[0])\n",
    "\n",
    "dfValidationData = dfRefinedData[cutoff:]\n",
    "dfRefinedData = dfRefinedData[:cutoff]\n",
    "\n",
    "dfValidationTest = actualResults[cutoff:]\n",
    "actualResults = actualResults[:cutoff]\n",
    "\n",
    "dfRefinedData"
   ]
  },
  {
   "cell_type": "code",
   "execution_count": 13,
   "id": "9e6875ca",
   "metadata": {},
   "outputs": [
    {
     "data": {
      "text/plain": [
       "tensor([[1.0000, 0.0000, 0.2750,  ..., 0.0000, 0.0000, 1.0000],\n",
       "        [1.0000, 0.0000, 0.4750,  ..., 1.0000, 0.0000, 0.0000],\n",
       "        [0.0000, 0.0000, 0.3250,  ..., 0.0000, 0.0000, 1.0000],\n",
       "        ...,\n",
       "        [1.0000, 1.0000, 0.3000,  ..., 0.0000, 0.0000, 1.0000],\n",
       "        [0.0000, 0.0000, 0.3000,  ..., 1.0000, 0.0000, 0.0000],\n",
       "        [0.0000, 0.0000, 0.3000,  ..., 1.0000, 0.0000, 0.0000]])"
      ]
     },
     "execution_count": 13,
     "metadata": {},
     "output_type": "execute_result"
    }
   ],
   "source": [
    "# Make pytorch tensors for gradient descent\n",
    "t_indep = tensor(dfRefinedData.values, dtype=torch.float)\n",
    "t_dep = tensor(actualResults.values)\n",
    "t_indep"
   ]
  },
  {
   "cell_type": "code",
   "execution_count": 14,
   "id": "d66390ee",
   "metadata": {},
   "outputs": [
    {
     "data": {
      "text/plain": [
       "torch.Size([712, 12])"
      ]
     },
     "execution_count": 14,
     "metadata": {},
     "output_type": "execute_result"
    }
   ],
   "source": [
    "t_indep.shape"
   ]
  },
  {
   "cell_type": "code",
   "execution_count": 15,
   "id": "3834dddf",
   "metadata": {},
   "outputs": [
    {
     "data": {
      "text/plain": [
       "tensor([ 0.2206,  0.1680,  0.1906, -0.4218,  0.0956,  0.3735,  0.3451,  0.0685,\n",
       "        -0.4024,  0.0705, -0.3185, -0.0860], requires_grad=True)"
      ]
     },
     "execution_count": 15,
     "metadata": {},
     "output_type": "execute_result"
    }
   ],
   "source": [
    "# Generate random coefficients for each column and enable gradients\n",
    "coeffs = torch.rand(t_indep.shape[1]) - 0.5\n",
    "coeffs.requires_grad_()\n",
    "coeffs"
   ]
  },
  {
   "cell_type": "code",
   "execution_count": 16,
   "id": "e5439643",
   "metadata": {
    "scrolled": true
   },
   "outputs": [
    {
     "data": {
      "text/plain": [
       "torch.return_types.max(\n",
       "values=tensor([8.0000, 6.0000, 1.0000, 2.7104, 1.0000, 1.0000, 1.0000, 1.0000, 1.0000,\n",
       "        1.0000, 1.0000, 1.0000]),\n",
       "indices=tensor([159, 678, 630, 258,   1,   0,   1,   5,   0,   1,   9,   0]))"
      ]
     },
     "execution_count": 16,
     "metadata": {},
     "output_type": "execute_result"
    }
   ],
   "source": [
    "t_indep.max(dim = 0)"
   ]
  },
  {
   "cell_type": "code",
   "execution_count": 17,
   "id": "cd57a11c",
   "metadata": {},
   "outputs": [
    {
     "data": {
      "text/plain": [
       "torch.return_types.max(\n",
       "values=tensor([1., 1., 1., 1., 1., 1., 1., 1., 1., 1., 1., 1.]),\n",
       "indices=tensor([159, 678, 630, 258,   1,   0,   1,   5,   0,   1,   9,   0]))"
      ]
     },
     "execution_count": 17,
     "metadata": {},
     "output_type": "execute_result"
    }
   ],
   "source": [
    "# Maxes still range an order of magnitude, lets normalize them all\n",
    "maxValues, maxIndices = t_indep.max(dim = 0)\n",
    "t_indep = t_indep/maxValues\n",
    "t_indep.max(dim = 0)"
   ]
  },
  {
   "cell_type": "code",
   "execution_count": 18,
   "id": "669eadd9",
   "metadata": {},
   "outputs": [
    {
     "data": {
      "text/plain": [
       "tensor([-0.1775,  0.3400, -0.4788, -0.3950, -0.1803,  0.2614, -0.0978, -0.2085,\n",
       "        -0.4411, -0.0491], grad_fn=<SliceBackward0>)"
      ]
     },
     "execution_count": 18,
     "metadata": {},
     "output_type": "execute_result"
    }
   ],
   "source": [
    "# Make the first set of predictions\n",
    "predictions = (t_indep * coeffs).sum(axis = 1)\n",
    "predictions[:10]"
   ]
  },
  {
   "cell_type": "code",
   "execution_count": 19,
   "id": "4abfe771",
   "metadata": {},
   "outputs": [
    {
     "data": {
      "text/plain": [
       "tensor(0.6484, grad_fn=<MeanBackward0>)"
      ]
     },
     "execution_count": 19,
     "metadata": {},
     "output_type": "execute_result"
    }
   ],
   "source": [
    "# Measure how well we did\n",
    "loss = torch.abs(predictions-t_dep).mean()\n",
    "loss"
   ]
  },
  {
   "cell_type": "code",
   "execution_count": 20,
   "id": "366ad58c",
   "metadata": {},
   "outputs": [],
   "source": [
    "# define the above functions as we will call them repeatedly\n",
    "def calc_predictions(coeffs, indeps): return (indeps*coeffs).sum(axis=1)\n",
    "def calc_loss(coeffs, indeps, deps): return torch.abs(calc_predictions(coeffs, indeps)-deps).mean()"
   ]
  },
  {
   "cell_type": "code",
   "execution_count": 21,
   "id": "75c29d21",
   "metadata": {},
   "outputs": [],
   "source": [
    "# Calculate the gradients\n",
    "loss.backward()"
   ]
  },
  {
   "cell_type": "code",
   "execution_count": 22,
   "id": "8e515c26",
   "metadata": {},
   "outputs": [
    {
     "name": "stdout",
     "output_type": "stream",
     "text": [
      "tensor(0.5441)\n"
     ]
    }
   ],
   "source": [
    "# Use the calculated gradients (but careful not to trigger another gradient calculation when using 'coeffs')\n",
    "with torch.no_grad():\n",
    "    coeffs.sub_(coeffs.grad * 0.1) # Subtracts the gradient (trying to min loss, not max it) by an arbitrary step\n",
    "    coeffs.grad.zero_() # Zero out the gradients (otherwise .backward() will add to it)\n",
    "    print(calc_loss(coeffs, t_indep, t_dep)) # Let's see if we improved"
   ]
  },
  {
   "cell_type": "code",
   "execution_count": 23,
   "id": "5cf15ab4",
   "metadata": {},
   "outputs": [],
   "source": [
    "# That worked well, let's make it a function\n",
    "def update_coeffs(coeffs, lr):\n",
    "    coeffs.sub_(coeffs.grad * lr)\n",
    "    coeffs.grad.zero_()"
   ]
  },
  {
   "cell_type": "code",
   "execution_count": 24,
   "id": "98a8a49c",
   "metadata": {},
   "outputs": [],
   "source": [
    "# Now to wrap it all up in a function\n",
    "def one_epoch(coeffs, lr):\n",
    "    loss = calc_loss(coeffs, t_indep, t_dep)\n",
    "    loss.backward()\n",
    "    with torch.no_grad(): update_coeffs(coeffs, lr)\n",
    "    print(f\"{loss:.3f}\", end=\"; \")"
   ]
  },
  {
   "cell_type": "code",
   "execution_count": 25,
   "id": "54aea404",
   "metadata": {
    "scrolled": true
   },
   "outputs": [
    {
     "name": "stdout",
     "output_type": "stream",
     "text": [
      "0.544; 0.523; 0.512; 0.502; 0.491; 0.481; 0.471; 0.461; 0.451; 0.441; 0.432; 0.424; 0.417; 0.410; 0.404; 0.398; 0.394; 0.389; 0.385; 0.382; 0.378; 0.375; 0.372; 0.369; 0.366; 0.363; 0.360; 0.358; 0.355; 0.353; 0.351; 0.349; 0.347; 0.346; 0.344; 0.342; 0.340; 0.338; 0.337; 0.335; 0.333; 0.332; 0.330; 0.329; 0.327; 0.326; 0.324; 0.323; 0.321; 0.320; 0.318; 0.317; 0.315; 0.313; 0.312; 0.310; 0.309; 0.307; 0.306; 0.304; 0.303; 0.301; 0.300; 0.298; 0.297; 0.295; 0.294; 0.292; 0.291; 0.289; 0.288; 0.287; 0.286; 0.284; 0.283; 0.282; 0.280; 0.279; 0.278; 0.277; "
     ]
    },
    {
     "data": {
      "text/plain": [
       "tensor([ 0.1751,  0.1588,  0.1600, -0.2242,  0.7373,  0.0584,  0.2373,  0.0496,\n",
       "         0.0508,  0.1342, -0.0574, -0.0842], requires_grad=True)"
      ]
     },
     "execution_count": 25,
     "metadata": {},
     "output_type": "execute_result"
    }
   ],
   "source": [
    "# Let's try it out\n",
    "for i in range(80):\n",
    "    one_epoch(coeffs, 0.05)\n",
    "coeffs"
   ]
  },
  {
   "cell_type": "code",
   "execution_count": 26,
   "id": "3e392fc3",
   "metadata": {},
   "outputs": [],
   "source": [
    "# How well is this truly doing though?\n",
    "v_indep = tensor(dfValidationData.values, dtype=torch.float)\n",
    "v_dep = tensor(dfValidationTest.values)"
   ]
  },
  {
   "cell_type": "code",
   "execution_count": 27,
   "id": "fd0fff02",
   "metadata": {},
   "outputs": [
    {
     "name": "stdout",
     "output_type": "stream",
     "text": [
      "tensor(0.3528)\n"
     ]
    }
   ],
   "source": [
    "with torch.no_grad():\n",
    "    print(calc_loss(coeffs, v_indep, v_dep))"
   ]
  },
  {
   "cell_type": "code",
   "execution_count": 28,
   "id": "ef5dfd56",
   "metadata": {},
   "outputs": [
    {
     "data": {
      "text/plain": [
       "tensor(0.7598)"
      ]
     },
     "execution_count": 28,
     "metadata": {},
     "output_type": "execute_result"
    }
   ],
   "source": [
    "# That looked pretty good, lets categorize the predictions more thoroughly\n",
    "with torch.no_grad():\n",
    "    predictions = calc_predictions(coeffs, v_indep)\n",
    "\n",
    "results = v_dep.bool() == (predictions > 0.5)\n",
    "results.float().mean()"
   ]
  },
  {
   "cell_type": "code",
   "execution_count": 29,
   "id": "7cc51e37",
   "metadata": {},
   "outputs": [
    {
     "data": {
      "text/plain": [
       "tensor(0.7598)"
      ]
     },
     "execution_count": 29,
     "metadata": {},
     "output_type": "execute_result"
    }
   ],
   "source": [
    "#let's also wrap up our accuracy function into a function for ease of testing\n",
    "def calc_accuracy(coeffs):\n",
    "    with torch.no_grad():\n",
    "        return (v_dep.bool() == (calc_predictions(coeffs, v_indep) > 0.5)).float().mean()\n",
    "calc_accuracy(coeffs)"
   ]
  },
  {
   "cell_type": "code",
   "execution_count": 30,
   "id": "79f4679d",
   "metadata": {},
   "outputs": [],
   "source": [
    "#Start of notebook 2\n",
    "#let's start by adding a sigmoid and see if that improves our prediction\n",
    "def calc_predictions(coeffs, indeps): return torch.sigmoid((coeffs * indeps).sum(axis=1))\n"
   ]
  },
  {
   "cell_type": "code",
   "execution_count": 31,
   "id": "6a41576f",
   "metadata": {
    "scrolled": true
   },
   "outputs": [
    {
     "data": {
      "text/plain": [
       "tensor(0.7151)"
      ]
     },
     "execution_count": 31,
     "metadata": {},
     "output_type": "execute_result"
    }
   ],
   "source": [
    "calc_accuracy(coeffs)"
   ]
  },
  {
   "cell_type": "code",
   "execution_count": 32,
   "id": "442017df",
   "metadata": {},
   "outputs": [
    {
     "name": "stdout",
     "output_type": "stream",
     "text": [
      "{'SibSp': tensor(0.1751), 'Parch': tensor(0.1588), 'Norm_Age': tensor(0.1600), 'Log_Fare': tensor(-0.2242), 'Sex_female': tensor(0.7373), 'Sex_male': tensor(0.0584), 'Embarked_C': tensor(0.2373), 'Embarked_Q': tensor(0.0496), 'Embarked_S': tensor(0.0508), 'Pclass_1': tensor(0.1342), 'Pclass_2': tensor(-0.0574), 'Pclass_3': tensor(-0.0842)}\n"
     ]
    }
   ],
   "source": [
    "#retroatively defining this here after realizing I probably want it in the next segment\n",
    "def show_coeffs(coeffs): return dict(zip(dfRefinedData.columns, coeffs.requires_grad_(False)))\n",
    "print(show_coeffs(coeffs))"
   ]
  },
  {
   "cell_type": "code",
   "execution_count": 33,
   "id": "3472237f",
   "metadata": {},
   "outputs": [
    {
     "name": "stdout",
     "output_type": "stream",
     "text": [
      "0.533; 0.532; 0.531; 0.530; 0.529; 0.528; 0.527; 0.526; 0.525; 0.524; 0.523; 0.522; 0.521; 0.520; 0.519; 0.518; 0.517; 0.516; 0.515; 0.514; 0.513; 0.512; 0.511; 0.510; 0.509; 0.508; 0.507; 0.506; 0.505; 0.504; 0.503; 0.502; 0.501; 0.500; 0.499; 0.498; 0.497; 0.496; 0.496; 0.495; 0.494; 0.493; 0.492; 0.491; 0.490; 0.489; 0.488; 0.487; 0.486; 0.485; 0.484; 0.484; 0.483; 0.482; 0.481; 0.480; 0.479; 0.478; 0.477; 0.476; 0.476; 0.475; 0.474; 0.473; 0.472; 0.471; 0.470; 0.470; 0.469; 0.468; 0.467; 0.466; 0.465; 0.465; 0.464; 0.463; 0.462; 0.461; 0.461; 0.460; 0.459; 0.458; 0.458; 0.457; 0.456; 0.455; 0.455; 0.454; 0.453; 0.452; 0.452; 0.451; 0.450; 0.449; 0.449; 0.448; 0.447; 0.447; 0.446; 0.445; {'SibSp': tensor(-0.2868), 'Parch': tensor(0.4333), 'Norm_Age': tensor(-0.2331), 'Log_Fare': tensor(-0.1717), 'Sex_female': tensor(0.0756), 'Sex_male': tensor(-0.1042), 'Embarked_C': tensor(0.0697), 'Embarked_Q': tensor(0.2554), 'Embarked_S': tensor(-0.5197), 'Pclass_1': tensor(-0.2589), 'Pclass_2': tensor(-0.2816), 'Pclass_3': tensor(-0.1914)}\n",
      "Accuracy: tensor(0.6536)\n"
     ]
    }
   ],
   "source": [
    "#hmmm, that didn't go so well. Let's see if that changes with we include it with the model since the beginning\n",
    "def train_new_model(epochs=100, lr=0.05):\n",
    "    #generate fresh coefficients\n",
    "    coeffs = torch.rand(t_indep.shape[1]) - 0.5\n",
    "    coeffs.requires_grad_()\n",
    "    #train the model\n",
    "    for i in range(epochs):\n",
    "        one_epoch(coeffs, lr)\n",
    "    print(show_coeffs(coeffs))\n",
    "    print('Accuracy:', calc_accuracy(coeffs))\n",
    "\n",
    "train_new_model()"
   ]
  },
  {
   "cell_type": "code",
   "execution_count": 34,
   "id": "74e247a8",
   "metadata": {
    "scrolled": true
   },
   "outputs": [
    {
     "name": "stdout",
     "output_type": "stream",
     "text": [
      "0.436; 0.435; 0.435; 0.434; 0.434; 0.433; 0.432; 0.432; 0.431; 0.431; 0.430; 0.430; 0.429; 0.428; 0.428; 0.427; 0.427; 0.426; 0.426; 0.425; 0.425; 0.424; 0.424; 0.423; 0.422; 0.422; 0.421; 0.421; 0.420; 0.420; 0.419; 0.419; 0.418; 0.418; 0.417; 0.417; 0.416; 0.416; 0.416; 0.415; 0.415; 0.414; 0.414; 0.413; 0.413; 0.412; 0.412; 0.411; 0.411; 0.410; 0.410; 0.410; 0.409; 0.409; 0.408; 0.408; 0.407; 0.407; 0.407; 0.406; 0.406; 0.405; 0.405; 0.405; 0.404; 0.404; 0.403; 0.403; 0.403; 0.402; 0.402; 0.401; 0.401; 0.401; 0.400; 0.400; 0.400; 0.399; 0.399; 0.398; 0.398; 0.398; 0.397; 0.397; 0.397; 0.396; 0.396; 0.396; 0.395; 0.395; 0.394; 0.394; 0.394; 0.393; 0.393; 0.393; 0.392; 0.392; 0.392; 0.391; 0.391; 0.391; 0.390; 0.390; 0.390; 0.389; 0.389; 0.389; 0.388; 0.388; 0.388; 0.387; 0.387; 0.387; 0.387; 0.386; 0.386; 0.386; 0.385; 0.385; 0.385; 0.384; 0.384; 0.384; 0.384; 0.383; 0.383; 0.383; 0.382; 0.382; 0.382; 0.381; 0.381; 0.381; 0.381; 0.380; 0.380; 0.380; 0.379; 0.379; 0.379; 0.379; 0.378; 0.378; 0.378; 0.377; 0.377; 0.377; 0.377; 0.376; {'SibSp': tensor(0.0334), 'Parch': tensor(0.2924), 'Norm_Age': tensor(-0.5120), 'Log_Fare': tensor(0.1303), 'Sex_female': tensor(-0.1277), 'Sex_male': tensor(-0.9326), 'Embarked_C': tensor(-0.1132), 'Embarked_Q': tensor(0.1652), 'Embarked_S': tensor(-0.5419), 'Pclass_1': tensor(0.3101), 'Pclass_2': tensor(-0.0202), 'Pclass_3': tensor(-0.5010)}\n",
      "Accuracy: tensor(0.6927)\n"
     ]
    }
   ],
   "source": [
    "#better, for kicks lets try more epochs\n",
    "train_new_model(epochs = 150)"
   ]
  },
  {
   "cell_type": "markdown",
   "id": "19e52bec",
   "metadata": {
    "slideshow": {
     "slide_type": "-"
    }
   },
   "source": [
    "# Adding layers\n",
    "Great, we've gotten a reasonable model using a single layer, a sigmoid, and 150 steps. Let's start by adding layers.\n",
    "\n",
    "First step is to use matrix-vector products, which basically do our calculation of (variables * coeffs).sum(axis=1), except they will automatically repeat for multiple rows of coeffs and is heavily optimized. We do this using the '@' operator."
   ]
  },
  {
   "cell_type": "code",
   "execution_count": 35,
   "id": "d19bb3cc",
   "metadata": {},
   "outputs": [],
   "source": [
    "def calc_predictions(coeffs, indeps): return torch.sigmoid(indeps@coeffs)"
   ]
  },
  {
   "cell_type": "code",
   "execution_count": 36,
   "id": "8f41c034",
   "metadata": {},
   "outputs": [
    {
     "name": "stdout",
     "output_type": "stream",
     "text": [
      "0.505; 0.504; 0.503; 0.502; 0.501; 0.500; 0.499; 0.498; 0.497; 0.496; 0.495; 0.494; 0.493; 0.492; 0.491; 0.490; 0.489; 0.488; 0.488; 0.487; 0.486; 0.485; 0.484; 0.483; 0.482; 0.481; 0.480; 0.479; 0.478; 0.477; 0.476; 0.475; 0.474; 0.473; 0.472; 0.471; 0.470; 0.469; 0.468; 0.467; 0.466; 0.465; 0.464; 0.463; 0.462; 0.461; 0.460; 0.459; 0.458; 0.458; 0.457; 0.456; 0.455; 0.454; 0.453; 0.452; 0.451; 0.450; 0.449; 0.448; 0.447; 0.446; 0.445; 0.444; 0.444; 0.443; 0.442; 0.441; 0.440; 0.439; 0.438; 0.437; 0.436; 0.436; 0.435; 0.434; 0.433; 0.432; 0.431; 0.430; 0.429; 0.429; 0.428; 0.427; 0.426; 0.425; 0.424; 0.424; 0.423; 0.422; 0.421; 0.420; 0.420; 0.419; 0.418; 0.417; 0.416; 0.416; 0.415; 0.414; 0.413; 0.413; 0.412; 0.411; 0.410; 0.410; 0.409; 0.408; 0.407; 0.407; 0.406; 0.405; 0.404; 0.404; 0.403; 0.402; 0.402; 0.401; 0.400; 0.400; 0.399; 0.398; 0.398; 0.397; 0.396; 0.396; 0.395; 0.394; 0.394; 0.393; 0.392; 0.392; 0.391; 0.390; 0.390; 0.389; 0.389; 0.388; 0.387; 0.387; 0.386; 0.386; 0.385; 0.384; 0.384; 0.383; 0.383; 0.382; 0.382; 0.381; {'SibSp': tensor(-0.1652), 'Parch': tensor(-0.2693), 'Norm_Age': tensor(-0.4186), 'Log_Fare': tensor(0.2825), 'Sex_female': tensor(0.7468), 'Sex_male': tensor(-0.3361), 'Embarked_C': tensor(-0.1246), 'Embarked_Q': tensor(0.2556), 'Embarked_S': tensor(-0.2283), 'Pclass_1': tensor(-0.0995), 'Pclass_2': tensor(0.4468), 'Pclass_3': tensor(-0.7569)}\n",
      "Accuracy: tensor(0.7709)\n"
     ]
    }
   ],
   "source": [
    "train_new_model(epochs=150)"
   ]
  },
  {
   "cell_type": "code",
   "execution_count": 37,
   "id": "951db1b1",
   "metadata": {},
   "outputs": [
    {
     "name": "stdout",
     "output_type": "stream",
     "text": [
      "0.463; 0.462; 0.460; 0.458; 0.456; 0.454; 0.452; 0.450; 0.448; 0.447; 0.445; 0.443; 0.441; 0.439; 0.438; 0.436; 0.434; 0.432; 0.431; 0.429; 0.427; 0.426; 0.424; 0.422; 0.421; 0.419; 0.418; 0.416; 0.414; 0.413; 0.411; 0.410; 0.409; 0.407; 0.406; 0.404; 0.403; 0.401; 0.400; 0.399; 0.397; 0.396; 0.395; 0.394; 0.392; 0.391; 0.390; 0.389; 0.388; 0.386; 0.385; 0.384; 0.383; 0.382; 0.381; 0.380; 0.379; 0.378; 0.376; 0.375; 0.374; 0.373; 0.372; 0.372; 0.371; 0.370; 0.369; 0.368; 0.367; 0.366; 0.365; 0.364; 0.363; 0.362; 0.362; 0.361; 0.360; 0.359; 0.358; 0.358; 0.357; 0.356; 0.355; 0.354; 0.354; 0.353; 0.352; 0.352; 0.351; 0.350; 0.349; 0.349; 0.348; 0.347; 0.347; 0.346; 0.345; 0.345; 0.344; 0.343; 0.343; 0.342; 0.342; 0.341; 0.340; 0.340; 0.339; 0.339; 0.338; 0.337; 0.337; 0.336; 0.336; 0.335; 0.335; 0.334; 0.334; 0.333; 0.333; 0.332; 0.331; 0.331; 0.330; 0.330; 0.329; 0.329; 0.328; 0.328; 0.327; 0.327; 0.327; 0.326; 0.326; 0.325; 0.325; 0.324; 0.324; 0.323; 0.323; 0.322; 0.322; 0.322; 0.321; 0.321; 0.320; 0.320; 0.319; 0.319; 0.319; 0.318; {'SibSp': tensor(0.0216), 'Parch': tensor(0.2303), 'Norm_Age': tensor(0.2651), 'Log_Fare': tensor(0.4057), 'Sex_female': tensor(1.0310), 'Sex_male': tensor(-1.1708), 'Embarked_C': tensor(0.1403), 'Embarked_Q': tensor(0.2478), 'Embarked_S': tensor(-0.9019), 'Pclass_1': tensor(-0.2307), 'Pclass_2': tensor(0.1230), 'Pclass_3': tensor(-0.6331)}\n",
      "Accuracy: tensor(0.8045)\n"
     ]
    }
   ],
   "source": [
    "#on a whim, I want to see what happens when we increase the learning rate\n",
    "train_new_model(epochs = 150, lr = 0.1)"
   ]
  },
  {
   "cell_type": "markdown",
   "id": "b7aae122",
   "metadata": {},
   "source": [
    "### So far so good\n",
    "Great, this seems to be working properly, but before we go on I want to increase the modularity of our learning function to make messing with the model easier"
   ]
  },
  {
   "cell_type": "code",
   "execution_count": 38,
   "id": "59327950",
   "metadata": {},
   "outputs": [],
   "source": [
    "def make_coeffs(layers=1): return (torch.rand(n_coeff, 1, requires_grad=True) * 0.1)"
   ]
  },
  {
   "cell_type": "code",
   "execution_count": 39,
   "id": "869a35e4",
   "metadata": {},
   "outputs": [],
   "source": [
    "def train_new_model(epochs=100, lr=0.1, layers=1):\n",
    "    #generate fresh coefficients\n",
    "    coeffs = make_coeffs(layers)\n",
    "    #train the model\n",
    "    for i in range(epochs):\n",
    "        one_epoch(coeffs, lr)\n",
    "    print(show_coeffs(coeffs))\n",
    "    print('Accuracy:', calc_accuracy(coeffs))"
   ]
  },
  {
   "cell_type": "code",
   "execution_count": null,
   "id": "d27c42e6",
   "metadata": {},
   "outputs": [],
   "source": []
  }
 ],
 "metadata": {
  "kernelspec": {
   "display_name": "Python 3 (ipykernel)",
   "language": "python",
   "name": "python3"
  },
  "language_info": {
   "codemirror_mode": {
    "name": "ipython",
    "version": 3
   },
   "file_extension": ".py",
   "mimetype": "text/x-python",
   "name": "python",
   "nbconvert_exporter": "python",
   "pygments_lexer": "ipython3",
   "version": "3.9.12"
  }
 },
 "nbformat": 4,
 "nbformat_minor": 5
}
